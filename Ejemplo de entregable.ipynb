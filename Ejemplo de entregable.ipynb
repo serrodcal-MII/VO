{
 "cells": [
  {
   "cell_type": "markdown",
   "metadata": {},
   "source": [
    "# EJERCICIO - EJEMPLO"
   ]
  },
  {
   "cell_type": "markdown",
   "metadata": {},
   "source": [
    "## Considera una imagen fotográfica, cárgala usando la librería OpenCV. Pásala a escala de grises usando 1) Y del modelo YUV y 2) el canal I del modelo HSI. Averigua cuál de ellas es la transformación que realiza OpenCV cuando carga una imagen como escala de grises o cuando la transforma con su función cvtColor. ¿Por qué es esa transformación la que se realiza?"
   ]
  },
  {
   "cell_type": "markdown",
   "metadata": {},
   "source": [
    "Primero cargaremos la imagen a color y la pasamos a escala de grises con los recursos de OpenCV. Iremos sacando por pantalla los distintos datos para familiarizarnos con su estructura."
   ]
  },
  {
   "cell_type": "code",
   "execution_count": 197,
   "metadata": {
    "scrolled": true
   },
   "outputs": [
    {
     "data": {
      "text/plain": [
       "array([[[ 98,   0, 181],\n",
       "        [202, 206, 185],\n",
       "        [197, 207, 165],\n",
       "        ...,\n",
       "        [206, 166, 150],\n",
       "        [202, 164, 150],\n",
       "        [196, 147, 131]],\n",
       "\n",
       "       [[108,   0, 141],\n",
       "        [204, 193, 199],\n",
       "        [200, 189, 195],\n",
       "        ...,\n",
       "        [204, 182, 162],\n",
       "        [195, 155, 141],\n",
       "        [197, 139, 119]],\n",
       "\n",
       "       [[108,   0, 141],\n",
       "        [203, 196, 197],\n",
       "        [199, 193, 193],\n",
       "        ...,\n",
       "        [209, 195, 174],\n",
       "        [196, 159, 144],\n",
       "        [193, 144, 116]],\n",
       "\n",
       "       ...,\n",
       "\n",
       "       [[172,   0, 160],\n",
       "        [212, 215, 210],\n",
       "        [214, 214, 211],\n",
       "        ...,\n",
       "        [191, 185, 181],\n",
       "        [190, 175, 173],\n",
       "        [168, 144, 158]],\n",
       "\n",
       "       [[173,   0, 163],\n",
       "        [213, 216, 210],\n",
       "        [215, 215, 210],\n",
       "        ...,\n",
       "        [177, 163, 168],\n",
       "        [190, 182, 184],\n",
       "        [184, 164, 167]],\n",
       "\n",
       "       [[ 32, 127,  35],\n",
       "        [ 34, 123,  33],\n",
       "        [ 38, 125,  34],\n",
       "        ...,\n",
       "        [ 68, 127,  98],\n",
       "        [ 65, 125, 102],\n",
       "        [ 54, 117, 107]]], dtype=uint8)"
      ]
     },
     "execution_count": 197,
     "metadata": {},
     "output_type": "execute_result"
    }
   ],
   "source": [
    "import numpy as np #Cargamos la librería numpay para trabajar con arrays\n",
    "import cv2 #Cargamos OpenCV\n",
    "\n",
    "# Cargamos la imagen tal cual está guardada\n",
    "img = cv2.imread('airplane.png',-1) #ponemos el nombre de una imagen que se encuentre en el mismo directorio \n",
    "#El segundo parámetro de la función cv2.imread() es una etiqueta (flag) que puede ser: \n",
    "#  IMREAD_UNCHANGED = -1,\n",
    "#  IMREAD_GRAYSCALE = 0,\n",
    "#  IMREAD_COLOR = 1.\n",
    "img"
   ]
  },
  {
   "cell_type": "markdown",
   "metadata": {},
   "source": [
    "Nótese, que cada fila de la matriz está compuesta por vectores de 3 elementos que son los correspondientes a los canales B, G y R (ya que OpenCV ordena así los canales de color). Ahora pasaremos la imagen a escala de grises. "
   ]
  },
  {
   "cell_type": "code",
   "execution_count": 198,
   "metadata": {
    "scrolled": true
   },
   "outputs": [
    {
     "data": {
      "text/plain": [
       "array([[ 65, 199, 193, ..., 166, 164, 148],\n",
       "       [ 54, 196, 192, ..., 179, 155, 140],\n",
       "       [ 54, 197, 194, ..., 190, 159, 141],\n",
       "       ...,\n",
       "       [ 67, 213, 213, ..., 184, 176, 151],\n",
       "       [ 68, 214, 214, ..., 166, 184, 167],\n",
       "       [ 89,  86,  88, ..., 112, 111, 107]], dtype=uint8)"
      ]
     },
     "execution_count": 198,
     "metadata": {},
     "output_type": "execute_result"
    }
   ],
   "source": [
    "#Podemos pasar la imagen a escala de grises usando cvtColor, que sirve en general para transformar la imagen a grises \n",
    "#o a otro modelo de color\n",
    "img_gray = cv2.cvtColor(img, cv2.COLOR_BGR2GRAY)\n",
    "#También la podríamos haber cargado directamente a escala de grises con el \"flag\" 0 para imread\n",
    "img_gray"
   ]
  },
  {
   "cell_type": "markdown",
   "metadata": {},
   "source": [
    " Ahora cada fila está compuesta por un valor de gris por cada píxel."
   ]
  },
  {
   "cell_type": "code",
   "execution_count": 199,
   "metadata": {},
   "outputs": [],
   "source": [
    "# Mostramos las imágenes\n",
    "cv2.imshow('image',img)\n",
    "cv2.imshow('image_gray',img_gray)"
   ]
  },
  {
   "cell_type": "markdown",
   "metadata": {},
   "source": [
    "Ahora separamos los canales y obtenemos, mediante la transformación apropiada, el canal Y del modelo YUV, así como el canal I de HSI."
   ]
  },
  {
   "cell_type": "code",
   "execution_count": 200,
   "metadata": {},
   "outputs": [],
   "source": [
    "#Separamos cada matriz, debemos tener en cuenta que la imagen está guardada usando la representación BGR\n",
    "B, G, R = cv2.split(img) \n",
    "#La aplicacion de la fórmula se puede hacer de manera directa gracias a las operaciones sobre arrays de numpy\n",
    "Y = 0.299 * R + 0.587 * G + 0.114 * B\n",
    "#pero el resultado serán números decimales por lo que volvemos a pasar al tipo de dato uint8 de las imágenes:\n",
    "Y8=np.uint8(Y)\n",
    "cv2.imshow('Y',Y8)\n",
    "#Del mismo modo calculamos la componente I de la representación HSI\n",
    "I=0.333*R+0.333*G+0.333*B\n",
    "#pero el resultado serán números decimales por lo que volvemos a pasar al tipo de dato uint8 de las imágenes:\n",
    "I8=np.uint8(I)\n",
    "cv2.imshow('I',I8)"
   ]
  },
  {
   "cell_type": "code",
   "execution_count": 201,
   "metadata": {},
   "outputs": [
    {
     "data": {
      "text/plain": [
       "array([[ 65.291, 199.265, 193.302, ..., 165.776, 164.146, 147.802],\n",
       "       [ 54.471, 196.048, 192.048, ..., 178.528, 155.374, 139.632],\n",
       "       [ 54.471, 197.097, 193.684, ..., 190.317, 158.733, 141.214],\n",
       "       ...,\n",
       "       [ 67.448, 213.163, 213.103, ..., 184.488, 176.112, 150.922],\n",
       "       [ 68.459, 213.864, 213.505, ..., 166.091, 183.51 , 167.177],\n",
       "       [ 88.662,  85.944,  87.873, ..., 111.603, 111.283, 106.828]])"
      ]
     },
     "execution_count": 201,
     "metadata": {},
     "output_type": "execute_result"
    }
   ],
   "source": [
    "Y # Veo que Y tiene valores decimales "
   ]
  },
  {
   "cell_type": "code",
   "execution_count": 202,
   "metadata": {},
   "outputs": [
    {
     "data": {
      "text/plain": [
       "array([[ 65, 199, 193, ..., 165, 164, 147],\n",
       "       [ 54, 196, 192, ..., 178, 155, 139],\n",
       "       [ 54, 197, 193, ..., 190, 158, 141],\n",
       "       ...,\n",
       "       [ 67, 213, 213, ..., 184, 176, 150],\n",
       "       [ 68, 213, 213, ..., 166, 183, 167],\n",
       "       [ 88,  85,  87, ..., 111, 111, 106]], dtype=uint8)"
      ]
     },
     "execution_count": 202,
     "metadata": {},
     "output_type": "execute_result"
    }
   ],
   "source": [
    "Y8 #vemos cómo Y8 toma el suelo de los valores de Y"
   ]
  },
  {
   "cell_type": "markdown",
   "metadata": {},
   "source": [
    "Ahora queremos ver si alguna de esas dos imágenes en escala de grises es la que corresponde a la transformación que realiza OpencV internamente cuando usa el flag IMREAD_GRAYSCALE = 0 o bien con cv2.COLOR_BGR2GRAY. Para ello calcularemos el valor absoluto de las diferencias con la imagen img_gray. Ahora bien, como estamos trabajando con arrays de numpy de uint8, al hacer operaciones con ellos, éstas se realizarán en enteros módulo 256. Hay que tener cuidado con eto. "
   ]
  },
  {
   "cell_type": "code",
   "execution_count": 203,
   "metadata": {},
   "outputs": [
    {
     "data": {
      "text/plain": [
       "array([[229,   2,   4, ..., 249, 249, 247],\n",
       "       [228, 254, 254, ..., 253, 248, 245],\n",
       "       [228, 255,   0, ..., 254, 249, 247],\n",
       "       ...,\n",
       "       [213,   1,   1, ..., 255, 253, 251],\n",
       "       [213,   2,   1, ..., 253, 255, 252],\n",
       "       [ 25,  23,  23, ...,  15,  14,  15]], dtype=uint8)"
      ]
     },
     "execution_count": 203,
     "metadata": {},
     "output_type": "execute_result"
    }
   ],
   "source": [
    "DI=img_gray-I8\n",
    "DI"
   ]
  },
  {
   "cell_type": "markdown",
   "metadata": {},
   "source": [
    "Por ejemplo, el valor 229 corresponde a haber obtenido en la diferencia el resultado -27, que es 229 mod 256. Para evitarlo, podemos pasar tanto Y8 como I8 al tipo double y así ya, en el momento que uno de los array de las operaciones es double, las operaciones se harán con números reales. "
   ]
  },
  {
   "cell_type": "code",
   "execution_count": 204,
   "metadata": {},
   "outputs": [],
   "source": [
    "Y8=np.double(Y8)\n",
    "DY=np.abs(Y8-img_gray)"
   ]
  },
  {
   "cell_type": "code",
   "execution_count": 205,
   "metadata": {},
   "outputs": [
    {
     "data": {
      "text/plain": [
       "array([[0., 0., 0., ..., 1., 0., 1.],\n",
       "       [0., 0., 0., ..., 1., 0., 1.],\n",
       "       [0., 0., 1., ..., 0., 1., 0.],\n",
       "       ...,\n",
       "       [0., 0., 0., ..., 0., 0., 1.],\n",
       "       [0., 1., 1., ..., 0., 1., 0.],\n",
       "       [1., 1., 1., ..., 1., 0., 1.]])"
      ]
     },
     "execution_count": 205,
     "metadata": {},
     "output_type": "execute_result"
    }
   ],
   "source": [
    "DY"
   ]
  },
  {
   "cell_type": "code",
   "execution_count": 192,
   "metadata": {
    "scrolled": false
   },
   "outputs": [
    {
     "data": {
      "text/plain": [
       "1.0"
      ]
     },
     "execution_count": 192,
     "metadata": {},
     "output_type": "execute_result"
    }
   ],
   "source": [
    "np.max(DY) "
   ]
  },
  {
   "cell_type": "markdown",
   "metadata": {},
   "source": [
    "Enel caso de Y, la mayor diferencia que aparece es de una unidad, que puede deberse al redondeo."
   ]
  },
  {
   "cell_type": "code",
   "execution_count": 206,
   "metadata": {},
   "outputs": [],
   "source": [
    "I8=np.double(I8)"
   ]
  },
  {
   "cell_type": "code",
   "execution_count": 211,
   "metadata": {},
   "outputs": [],
   "source": [
    "DI=np.abs(I8-img_gray)"
   ]
  },
  {
   "cell_type": "code",
   "execution_count": 212,
   "metadata": {},
   "outputs": [
    {
     "data": {
      "text/plain": [
       "array([[27.,  2.,  4., ...,  7.,  7.,  9.],\n",
       "       [28.,  2.,  2., ...,  3.,  8., 11.],\n",
       "       [28.,  1.,  0., ...,  2.,  7.,  9.],\n",
       "       ...,\n",
       "       [43.,  1.,  1., ...,  1.,  3.,  5.],\n",
       "       [43.,  2.,  1., ...,  3.,  1.,  4.],\n",
       "       [25., 23., 23., ..., 15., 14., 15.]])"
      ]
     },
     "execution_count": 212,
     "metadata": {},
     "output_type": "execute_result"
    }
   ],
   "source": [
    "DI"
   ]
  },
  {
   "cell_type": "markdown",
   "metadata": {},
   "source": [
    "Sin embargo en este caso las diferencias son mayores. Por tanto, la transformación que realiza OpenCV es la del canal Y. Esta transformación a grises es la que se suele usar en todos los paquetes ya que la fórmula realiza un promedio de los tres canales con unos pesos que reflejan la forma de ver del ser humano. Detectamos mucho más el verde, después el rojo y en menor medida el azul."
   ]
  },
  {
   "cell_type": "code",
   "execution_count": null,
   "metadata": {},
   "outputs": [],
   "source": [
    "# Necesario para cerrar las ventanas:\n",
    "cv2.waitKey(0)\n",
    "cv2.destroyAllWindows()\n",
    "\n",
    "# Importante: interrumpir la ejecución de este bloque para cerrar las ventanas."
   ]
  }
 ],
 "metadata": {
  "kernelspec": {
   "display_name": "Python 3",
   "language": "python",
   "name": "python3"
  },
  "language_info": {
   "codemirror_mode": {
    "name": "ipython",
    "version": 3
   },
   "file_extension": ".py",
   "mimetype": "text/x-python",
   "name": "python",
   "nbconvert_exporter": "python",
   "pygments_lexer": "ipython3",
   "version": "3.8.8"
  }
 },
 "nbformat": 4,
 "nbformat_minor": 4
}
